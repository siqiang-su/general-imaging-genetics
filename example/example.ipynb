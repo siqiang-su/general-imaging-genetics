{
 "cells": [
  {
   "cell_type": "code",
   "execution_count": 2,
   "metadata": {},
   "outputs": [],
   "source": [
    "%load_ext autoreload\n",
    "%autoreload 1\n",
    "%aimport Joint_Generation,utils,Alternating_Minimization\n",
    "\n",
    "import numpy as np\n",
    "from matplotlib import pyplot as plt\n",
    "from skimage.transform import resize\n",
    "import random\n",
    "from utils import *\n",
    "from Joint_Generation import *\n",
    "from Alternating_Minimization import *\n",
    "import math\n",
    "import scipy\n",
    "import scipy.linalg\n",
    "import scipy.stats\n",
    "from sklearn.linear_model import LinearRegression, Lasso\n"
   ]
  },
  {
   "cell_type": "markdown",
   "metadata": {},
   "source": [
    "Define the size of the location indicator $(p_1,p_2)$, and the size of the dictionary $(d_1,d_2)$."
   ]
  },
  {
   "cell_type": "code",
   "execution_count": 3,
   "metadata": {},
   "outputs": [],
   "source": [
    "## Input dimension settings\n",
    "p = 100\n",
    "D1 = 32\n",
    "D2 = 32\n",
    "N = 1000\n",
    "p1 = 4\n",
    "p2 = 4\n",
    "d1 = 8\n",
    "d2 = 8\n",
    "mux = np.zeros((p))\n",
    "muy = np.zeros((D1*D2))"
   ]
  },
  {
   "cell_type": "markdown",
   "metadata": {},
   "source": [
    "Here we load the true signal shape as `1-block`."
   ]
  },
  {
   "cell_type": "code",
   "execution_count": 4,
   "metadata": {},
   "outputs": [
    {
     "data": {
      "text/plain": [
       "<matplotlib.image.AxesImage at 0x1a4411acb50>"
      ]
     },
     "execution_count": 4,
     "metadata": {},
     "output_type": "execute_result"
    },
    {
     "data": {
      "image/png": "[encoded data removed]",
      "text/plain": [
       "<Figure size 640x480 with 1 Axes>"
      ]
     },
     "metadata": {},
     "output_type": "display_data"
    }
   ],
   "source": [
    "# Load true signal and visualize it\n",
    "C_true = np.load('1-block.npy')\n",
    "C_vec = C_true.reshape(D1*D2,1)\n",
    "plt.imshow(C_true,cmap=\"gray\")"
   ]
  },
  {
   "cell_type": "markdown",
   "metadata": {},
   "source": [
    "Here we generate three data blocks $X$, $Y$ and $z$ with specified true canonical correlation."
   ]
  },
  {
   "cell_type": "code",
   "execution_count": 5,
   "metadata": {},
   "outputs": [],
   "source": [
    "X,Y,Yarray,theta,z,indx = data_generation(N=N,rho1=0.8,rho2=0.6,p=100,D1=D1,D2=D2,mux=mux,muy=muy,C_vec=C_vec,C_true=C_true,type=\"identity\",verbose=False)"
   ]
  },
  {
   "cell_type": "markdown",
   "metadata": {},
   "source": [
    "Now select the best hyper-parameter triple: $(\\lambda_1,\\lambda_2,R)$ by minimizing modified BIC criterion."
   ]
  },
  {
   "cell_type": "code",
   "execution_count": 7,
   "metadata": {},
   "outputs": [
    {
     "name": "stdout",
     "output_type": "stream",
     "text": [
      "The BIC value for combination  0.002 0.0002 1 is:  -0.5496539017780417\n",
      "The BIC value for combination  0.002 0.0002 2 is:  -0.5496818565478115\n",
      "The BIC value for combination  0.002 0.0002 3 is:  -0.5496569038790214\n",
      "The BIC value for combination  0.002 0.00025 1 is:  -0.6112761923247632\n",
      "The BIC value for combination  0.002 0.00025 2 is:  -0.6112814286540944\n",
      "The BIC value for combination  0.002 0.00025 3 is:  -0.6112563848792807\n",
      "The BIC value for combination  0.002 0.0003 1 is:  -0.6292806791029565\n",
      "The BIC value for combination  0.002 0.0003 2 is:  -0.6292587647270735\n",
      "The BIC value for combination  0.002 0.0003 3 is:  -0.6294677629234384\n",
      "The BIC value for combination  0.004 0.0002 1 is:  -0.5496399058167488\n",
      "The BIC value for combination  0.004 0.0002 2 is:  -0.5496363558323998\n",
      "The BIC value for combination  0.004 0.0002 3 is:  -0.5497112859621465\n",
      "The BIC value for combination  0.004 0.00025 1 is:  -0.6112628180061423\n",
      "The BIC value for combination  0.004 0.00025 2 is:  -0.6112627534633293\n",
      "The BIC value for combination  0.004 0.00025 3 is:  -0.6112639422900494\n",
      "The BIC value for combination  0.004 0.0003 1 is:  -0.6292940190064895\n",
      "The BIC value for combination  0.004 0.0003 2 is:  -0.6292862908808082\n",
      "The BIC value for combination  0.004 0.0003 3 is:  -0.6292927102090229\n",
      "The BIC value for combination  0.005 0.0002 1 is:  -0.549638424367633\n",
      "The BIC value for combination  0.005 0.0002 2 is:  -0.5496345510009658\n",
      "The BIC value for combination  0.005 0.0002 3 is:  -0.5496421678434595\n",
      "The BIC value for combination  0.005 0.00025 1 is:  -0.6112705089681401\n",
      "The BIC value for combination  0.005 0.00025 2 is:  -0.6112613483717269\n",
      "The BIC value for combination  0.005 0.00025 3 is:  -0.6112603128827636\n",
      "The BIC value for combination  0.005 0.0003 1 is:  -0.6292882226833688\n",
      "The BIC value for combination  0.005 0.0003 2 is:  -0.6292867098124059\n",
      "The BIC value for combination  0.005 0.0003 3 is:  -0.6292875857938398\n"
     ]
    },
    {
     "data": {
      "text/plain": [
       "-0.6292875857938398"
      ]
     },
     "execution_count": 7,
     "metadata": {},
     "output_type": "execute_result"
    }
   ],
   "source": [
    "lam1_grid = np.array([0.002,0.004,0.005])\n",
    "lam2_grid = np.array([0.00020,0.00025,0.00030])\n",
    "R_grid = np.array([1,2,3])\n",
    "cca_BIC_tuning(N,X,Yarray,z,lam1_grid,lam2_grid,R_grid,p1,p2,d1,d2,p,niter=5)"
   ]
  },
  {
   "cell_type": "markdown",
   "metadata": {},
   "source": [
    "We can see the smallest BIC value is attained for $(0.004,0.003,3)$, so we use these hyper-parameter setting to fit the model."
   ]
  },
  {
   "cell_type": "code",
   "execution_count": 9,
   "metadata": {},
   "outputs": [
    {
     "name": "stdout",
     "output_type": "stream",
     "text": [
      "TPR of theta is:  1.0\n",
      "FPR of theta is:  0.010526315789473684\n",
      "TPR of C is:  1.0\n",
      "FPR of C is:  0.050445103857566766\n"
     ]
    },
    {
     "data": {
      "image/png": "[encoded data removed]",
      "text/plain": [
       "<Figure size 640x480 with 1 Axes>"
      ]
     },
     "metadata": {},
     "output_type": "display_data"
    },
    {
     "name": "stdout",
     "output_type": "stream",
     "text": [
      "TPR for C is:  1.0\n",
      "FPR for C is:  0.050445103857566766\n",
      "TPR for theta is:  1.0\n",
      "FPR for theta is:  0.010526315789473684\n",
      "MSE for C is:  0.2690534561359772\n",
      "MSE for theta is:  0.10555879347618104\n"
     ]
    }
   ],
   "source": [
    "a,b,thetahat = cca_alt_minimization(N,X,Yarray,z,lam1=0.004,lam2=0.0003,R=3,tau_x=0.01,tau_y=0.01,p1=p1,p2=p2,d1=d1,d2=d2,p=p,niter=5,init='uniform')\n",
    "TPR_theta, FPR_theta, theta_err, TPR_C, FPR_C, C_err, C_hat, canoncor, zXcor, zYcor, sumcor = cca_sim_evaluation(N,X,Yarray,z,a=a,b=b,R=1,theta=theta,C_true=C_true,thetahat=thetahat,indx=indx,p1=p1,p2=p2,d1=d1,d2=d2,D1=D1,D2=D2,show=True)\n",
    "print('TPR for C is: ',(TPR_C))\n",
    "print('FPR for C is: ',(FPR_C))\n",
    "print('TPR for theta is: ',(TPR_theta))\n",
    "print('FPR for theta is: ',(FPR_theta))\n",
    "print('MSE for C is: ',(C_err))\n",
    "print('MSE for theta is: ',(theta_err))"
   ]
  },
  {
   "cell_type": "code",
   "execution_count": null,
   "metadata": {},
   "outputs": [],
   "source": [
    "\n",
    "%reset"
   ]
  }
 ],
 "metadata": {
  "kernelspec": {
   "display_name": "Python 3.9.12 ('base')",
   "language": "python",
   "name": "python3"
  },
  "language_info": {
   "codemirror_mode": {
    "name": "ipython",
    "version": 3
   },
   "file_extension": ".py",
   "mimetype": "text/x-python",
   "name": "python",
   "nbconvert_exporter": "python",
   "pygments_lexer": "ipython3",
   "version": "3.9.13"
  },
  "orig_nbformat": 4,
  "vscode": {
   "interpreter": {
    "hash": "c6eb324b7a995091e2aae2c41b97cacf854c14462b55099aac59b65650227024"
   }
  }
 },
 "nbformat": 4,
 "nbformat_minor": 2
}
